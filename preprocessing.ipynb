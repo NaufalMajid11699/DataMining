{
  "nbformat": 4,
  "nbformat_minor": 0,
  "metadata": {
    "colab": {
      "name": "preprocessing.ipynb",
      "provenance": [],
      "collapsed_sections": [],
      "authorship_tag": "ABX9TyOw8cgnL8sNik4TFnnkNGv6",
      "include_colab_link": true
    },
    "kernelspec": {
      "name": "python3",
      "display_name": "Python 3"
    },
    "language_info": {
      "name": "python"
    }
  },
  "cells": [
    {
      "cell_type": "markdown",
      "metadata": {
        "id": "view-in-github",
        "colab_type": "text"
      },
      "source": [
        "<a href=\"https://colab.research.google.com/github/NaufalMajid11699/DataMining/blob/main/preprocessing.ipynb\" target=\"_parent\"><img src=\"https://colab.research.google.com/assets/colab-badge.svg\" alt=\"Open In Colab\"/></a>"
      ]
    },
    {
      "cell_type": "code",
      "source": [
        "import numpy as np\n",
        "import matplotlib.pyplot as plt\n",
        "import pandas as pd"
      ],
      "metadata": {
        "id": "x2UvzljC3oT-"
      },
      "execution_count": 24,
      "outputs": []
    },
    {
      "cell_type": "markdown",
      "source": [
        "Numpy merupakan library python digunanakan untuk komputasi matris. Matplotlib merupakan library pythonuntuk presentasi data berubah grafik atau plot......"
      ],
      "metadata": {
        "id": "Ppf9s_lZ3vAl"
      }
    },
    {
      "cell_type": "code",
      "source": [
        "dataset = pd.read_csv('Dataset.csv')\n",
        "x = dataset.iloc[:, :-1].values\n",
        "y = dataset.iloc[:, -1].values"
      ],
      "metadata": {
        "id": "KQ2_0UBp3wGi"
      },
      "execution_count": 31,
      "outputs": []
    },
    {
      "cell_type": "code",
      "source": [
        "print(x)"
      ],
      "metadata": {
        "colab": {
          "base_uri": "https://localhost:8080/"
        },
        "id": "Fg6VxXxR31dz",
        "outputId": "9c47f34d-edc7-48a4-a3c6-8e36a5256a9c"
      },
      "execution_count": 32,
      "outputs": [
        {
          "output_type": "stream",
          "name": "stdout",
          "text": [
            "[['klaten' 44.0 72000.0]\n",
            " ['ungaran' 27.0 48000.0]\n",
            " ['semarang' 30.0 54000.0]\n",
            " ['klaten' 38.0 61000.0]\n",
            " ['ungaran' 40.0 nan]\n",
            " ['semarang' 35.0 58000.0]\n",
            " ['klaten' nan 52000.0]\n",
            " ['ungaran' 48.0 79000.0]\n",
            " ['semarang' 50.0 83000.0]\n",
            " ['ungaran' 37.0 67000.0]]\n"
          ]
        }
      ]
    },
    {
      "cell_type": "code",
      "source": [
        "print(y)"
      ],
      "metadata": {
        "colab": {
          "base_uri": "https://localhost:8080/"
        },
        "id": "wMZQ6Gim35jM",
        "outputId": "39d7f57b-487e-49fe-fdd8-b758228ae4aa"
      },
      "execution_count": 33,
      "outputs": [
        {
          "output_type": "stream",
          "name": "stdout",
          "text": [
            "['no' 'yes' 'no' 'no' 'yes' 'yes' 'no' 'yes' 'no' 'yes']\n"
          ]
        }
      ]
    },
    {
      "cell_type": "code",
      "source": [
        "from sklearn.compose import ColumnTransformer\n",
        "from sklearn.preprocessing import OneHotEncoder\n",
        "ct = ColumnTransformer(transformers=[('encoder',OneHotEncoder(), [0])], remainder='passthrough')\n",
        "x = np.array(ct.fit_transform(x))"
      ],
      "metadata": {
        "id": "RzLYuxFB375u"
      },
      "execution_count": 35,
      "outputs": []
    },
    {
      "cell_type": "code",
      "source": [
        "print(x)"
      ],
      "metadata": {
        "colab": {
          "base_uri": "https://localhost:8080/"
        },
        "id": "-ri0481Z4CZO",
        "outputId": "52b0ca7b-fb3e-42d4-b4fc-e97a679bea1b"
      },
      "execution_count": 36,
      "outputs": [
        {
          "output_type": "stream",
          "name": "stdout",
          "text": [
            "[[0.0 1.0 0.0 0.0 44.0 72000.0]\n",
            " [1.0 0.0 0.0 1.0 27.0 48000.0]\n",
            " [1.0 0.0 1.0 0.0 30.0 54000.0]\n",
            " [0.0 1.0 0.0 0.0 38.0 61000.0]\n",
            " [1.0 0.0 0.0 1.0 40.0 nan]\n",
            " [1.0 0.0 1.0 0.0 35.0 58000.0]\n",
            " [0.0 1.0 0.0 0.0 nan 52000.0]\n",
            " [1.0 0.0 0.0 1.0 48.0 79000.0]\n",
            " [1.0 0.0 1.0 0.0 50.0 83000.0]\n",
            " [1.0 0.0 0.0 1.0 37.0 67000.0]]\n"
          ]
        }
      ]
    },
    {
      "cell_type": "code",
      "source": [
        "from sklearn.preprocessing import LabelEncoder\n",
        "le = LabelEncoder()\n",
        "y = le.fit_transform(y)"
      ],
      "metadata": {
        "id": "7ubrOnGP6w4b"
      },
      "execution_count": 37,
      "outputs": []
    },
    {
      "cell_type": "code",
      "source": [
        "print(y)"
      ],
      "metadata": {
        "colab": {
          "base_uri": "https://localhost:8080/"
        },
        "id": "k6smSceP6y45",
        "outputId": "f4408918-de3b-4803-b6cf-847eb44ff0b3"
      },
      "execution_count": 38,
      "outputs": [
        {
          "output_type": "stream",
          "name": "stdout",
          "text": [
            "[0 1 0 0 1 1 0 1 0 1]\n"
          ]
        }
      ]
    },
    {
      "cell_type": "code",
      "source": [
        "from sklearn.model_selection import train_test_split\n",
        "x_train, x_test, y_train, y_test = train_test_split(x,y, test_size = 0.2, random_state =1)"
      ],
      "metadata": {
        "id": "NDuQ8F706378"
      },
      "execution_count": 39,
      "outputs": []
    },
    {
      "cell_type": "code",
      "source": [
        "print(x_train)"
      ],
      "metadata": {
        "colab": {
          "base_uri": "https://localhost:8080/"
        },
        "id": "LkG-mxIM66-b",
        "outputId": "2f18f683-654f-4e59-f651-bc1b1d8686f6"
      },
      "execution_count": 40,
      "outputs": [
        {
          "output_type": "stream",
          "name": "stdout",
          "text": [
            "[[0.0 1.0 0.0 0.0 nan 52000.0]\n",
            " [1.0 0.0 0.0 1.0 40.0 nan]\n",
            " [0.0 1.0 0.0 0.0 44.0 72000.0]\n",
            " [0.0 1.0 0.0 0.0 38.0 61000.0]\n",
            " [1.0 0.0 0.0 1.0 27.0 48000.0]\n",
            " [1.0 0.0 0.0 1.0 48.0 79000.0]\n",
            " [1.0 0.0 1.0 0.0 50.0 83000.0]\n",
            " [1.0 0.0 1.0 0.0 35.0 58000.0]]\n"
          ]
        }
      ]
    },
    {
      "cell_type": "code",
      "source": [
        "print(x_test)"
      ],
      "metadata": {
        "colab": {
          "base_uri": "https://localhost:8080/"
        },
        "id": "_1pIt08V69Tx",
        "outputId": "d4875d8c-c14e-4b39-9395-a8f11a99fb9c"
      },
      "execution_count": 41,
      "outputs": [
        {
          "output_type": "stream",
          "name": "stdout",
          "text": [
            "[[1.0 0.0 1.0 0.0 30.0 54000.0]\n",
            " [1.0 0.0 0.0 1.0 37.0 67000.0]]\n"
          ]
        }
      ]
    },
    {
      "cell_type": "code",
      "source": [
        "print(y_train)"
      ],
      "metadata": {
        "colab": {
          "base_uri": "https://localhost:8080/"
        },
        "id": "uK0w9WQh7BKZ",
        "outputId": "f3655107-f6eb-4443-c775-c4c2f2d48525"
      },
      "execution_count": 42,
      "outputs": [
        {
          "output_type": "stream",
          "name": "stdout",
          "text": [
            "[0 1 0 0 1 1 0 1]\n"
          ]
        }
      ]
    },
    {
      "cell_type": "code",
      "source": [
        "print(y_test)"
      ],
      "metadata": {
        "colab": {
          "base_uri": "https://localhost:8080/"
        },
        "id": "FPLmHvWy7D-W",
        "outputId": "437e9e73-60cb-4aa3-cd07-3541a5c63039"
      },
      "execution_count": 43,
      "outputs": [
        {
          "output_type": "stream",
          "name": "stdout",
          "text": [
            "[0 1]\n"
          ]
        }
      ]
    },
    {
      "cell_type": "code",
      "source": [
        "from sklearn.preprocessing import StandardScaler\n",
        "sc = StandardScaler()\n",
        "x_train[:, 3:] = sc.fit_transform(x_train [:, 3:])\n",
        "x_test[:, 3:] = sc.transform(x_test[:, 3:])"
      ],
      "metadata": {
        "id": "rVcjRyJ47JlE"
      },
      "execution_count": 44,
      "outputs": []
    },
    {
      "cell_type": "code",
      "source": [
        "print(x_train)"
      ],
      "metadata": {
        "colab": {
          "base_uri": "https://localhost:8080/"
        },
        "id": "yUTOyaAU7MdO",
        "outputId": "510359fd-59bf-483e-ea3c-d95521f3d7bc"
      },
      "execution_count": 45,
      "outputs": [
        {
          "output_type": "stream",
          "name": "stdout",
          "text": [
            "[[0.0 1.0 0.0 -0.7745966692414834 nan -1.0182239953527132]\n",
            " [1.0 0.0 0.0 1.2909944487358056 -0.038910211282047996 nan]\n",
            " [0.0 1.0 0.0 -0.7745966692414834 0.5058327466666259 0.583476671494251]\n",
            " [0.0 1.0 0.0 -0.7745966692414834 -0.3112816902563849 -0.2974586952715793]\n",
            " [1.0 0.0 0.0 1.2909944487358056 -1.809324824615238 -1.3385641287221062]\n",
            " [1.0 0.0 0.0 1.2909944487358056 1.0505757046152997 1.1440719048906884]\n",
            " [1.0 0.0 1.0 -0.7745966692414834 1.3229471835896367 1.4644120382600814]\n",
            " [1.0 0.0 1.0 -0.7745966692414834 -0.7198389087178904 -0.537713795298624]]\n"
          ]
        }
      ]
    }
  ]
}